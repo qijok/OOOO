{
 "cells": [
  {
   "cell_type": "code",
   "execution_count": 173,
   "id": "0599ecb4-981f-4162-ad68-0dddd3c3c707",
   "metadata": {},
   "outputs": [
    {
     "name": "stdout",
     "output_type": "stream",
     "text": [
      "Введите коэффициенты для уравнения\n"
     ]
    },
    {
     "name": "stdin",
     "output_type": "stream",
     "text": [
      "x =  1.79\n"
     ]
    },
    {
     "name": "stdout",
     "output_type": "stream",
     "text": [
      "2.235711508719344\n"
     ]
    }
   ],
   "source": [
    "import math\n",
    "print(\"Введите коэффициенты для уравнения\")\n",
    "x = float(input(\"x = \")) \n",
    "y = 0\n",
    "\n",
    "a = math.cos(math.exp(x)) + math.log(math.e, (1+x)**2)\n",
    "b = math.sqrt(math.exp(math.cos(x)) + (math.sin(math.pi * x))**2) \n",
    "c = math.sqrt(1/x) + math.cos(x**2) \n",
    "y = (a + b + c) ** (math.sin(x))\n",
    "print(y)"
   ]
  }
 ],
 "metadata": {
  "kernelspec": {
   "display_name": "Python [conda env:base] *",
   "language": "python",
   "name": "conda-base-py"
  },
  "language_info": {
   "codemirror_mode": {
    "name": "ipython",
    "version": 3
   },
   "file_extension": ".py",
   "mimetype": "text/x-python",
   "name": "python",
   "nbconvert_exporter": "python",
   "pygments_lexer": "ipython3",
   "version": "3.12.7"
  }
 },
 "nbformat": 4,
 "nbformat_minor": 5
}
