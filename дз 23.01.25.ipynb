{
 "cells": [
  {
   "cell_type": "code",
   "execution_count": 197,
   "id": "04e8ac96-91c3-4fdf-9b52-2c723dd66ef7",
   "metadata": {},
   "outputs": [
    {
     "data": {
      "text/plain": [
       "['Мама', 'мыла', 'раму']"
      ]
     },
     "execution_count": 197,
     "metadata": {},
     "output_type": "execute_result"
    }
   ],
   "source": [
    "def kolo(l) -> str: #задача номер 1\n",
    "    l = l.split()\n",
    "    return(l)\n",
    "kolo(\"Мама мыла раму\")"
   ]
  },
  {
   "cell_type": "code",
   "execution_count": 47,
   "id": "9d91781f-eab1-46d3-84bd-c6a907e18cfd",
   "metadata": {},
   "outputs": [
    {
     "data": {
      "text/plain": [
       "[6, 5, 4, 3, 2, 1]"
      ]
     },
     "execution_count": 47,
     "metadata": {},
     "output_type": "execute_result"
    }
   ],
   "source": [
    "def york(n): # задача номер 3\n",
    "    if n < 1:\n",
    "        return []\n",
    "    return [n] + york(n-1)\n",
    "york(6)"
   ]
  },
  {
   "cell_type": "code",
   "execution_count": 111,
   "id": "8405992f-da36-4e79-ad25-27f6739445f9",
   "metadata": {},
   "outputs": [
    {
     "data": {
      "text/plain": [
       "0"
      ]
     },
     "execution_count": 111,
     "metadata": {},
     "output_type": "execute_result"
    }
   ],
   "source": [
    "def tion(lp) -> int | float: #велосепедист задача номер 2\n",
    "    x = lp / 2\n",
    "    return(int(x))\n",
    "tion(1)\n",
    "    "
   ]
  },
  {
   "cell_type": "code",
   "execution_count": 285,
   "id": "52289a41-5f86-402a-b50a-5ba80d0cab0a",
   "metadata": {},
   "outputs": [
    {
     "data": {
      "text/plain": [
       "18"
      ]
     },
     "execution_count": 285,
     "metadata": {},
     "output_type": "execute_result"
    }
   ],
   "source": [
    "def koko(mt) -> int: #задача номер 4\n",
    "    z = (mt - 1) / 100 + 1;\n",
    "    return(int(z))\n",
    "koko(1748)"
   ]
  },
  {
   "cell_type": "code",
   "execution_count": 231,
   "id": "00fb4b9f-b28f-498a-b9ba-fc952602d452",
   "metadata": {},
   "outputs": [
    {
     "data": {
      "text/plain": [
       "['7', '1', '1', '1']"
      ]
     },
     "execution_count": 231,
     "metadata": {},
     "output_type": "execute_result"
    }
   ],
   "source": [
    "def ferz(ui) -> int: #задача номер 5\n",
    "    p = str(ui)\n",
    "    q = (p[::-1])\n",
    "    return(list(q))\n",
    "ferz(1117)\n",
    "    "
   ]
  }
 ],
 "metadata": {
  "kernelspec": {
   "display_name": "Python [conda env:base] *",
   "language": "python",
   "name": "conda-base-py"
  },
  "language_info": {
   "codemirror_mode": {
    "name": "ipython",
    "version": 3
   },
   "file_extension": ".py",
   "mimetype": "text/x-python",
   "name": "python",
   "nbconvert_exporter": "python",
   "pygments_lexer": "ipython3",
   "version": "3.12.7"
  }
 },
 "nbformat": 4,
 "nbformat_minor": 5
}
