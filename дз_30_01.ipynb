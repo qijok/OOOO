{
  "nbformat": 4,
  "nbformat_minor": 0,
  "metadata": {
    "colab": {
      "provenance": [],
      "toc_visible": true
    },
    "kernelspec": {
      "name": "python3",
      "display_name": "Python 3"
    },
    "language_info": {
      "name": "python"
    }
  },
  "cells": [
    {
      "cell_type": "code",
      "execution_count": null,
      "metadata": {
        "id": "U0H2w6ZhtROL"
      },
      "outputs": [],
      "source": [
        "class Electronics:\n",
        "\n",
        "  def __init__ (self, brand: str, price: float, weight: int, max_capasity = 1500, cnt = 0):\n",
        "    self.cnt = cnt\n",
        "    self.brand = brand\n",
        "    self.price = price\n",
        "    self.max_capasity = max_capasity\n",
        "    self.weight = weight\n",
        "\n",
        "  def buy(self, amount: int):\n",
        "    if self.cnt >= amount:\n",
        "      self.cnt -= amount\n",
        "    else:\n",
        "      print(f\"Ошибка! Нельзя продать больше, чем есть в наличии.\")\n",
        "\n",
        "  def add(self, amount: int):\n",
        "    if self.max_capasity >= self.cnt + amount:\n",
        "      self.cnt += amount\n",
        "    else:\n",
        "      print(f\"Склад переполнен!\")\n",
        "\n",
        "  def display_info (self):\n",
        "    print(f\"Brand:\", self.brand, f\"Price:\", self.price, f\"Count:\", self.cnt)"
      ]
    },
    {
      "cell_type": "code",
      "source": [
        "Item1 = Electronics(\"Samsung\", 999.99, 2)\n",
        "Item1.display_info()"
      ],
      "metadata": {
        "colab": {
          "base_uri": "https://localhost:8080/"
        },
        "id": "ksPppZ5Au2ob",
        "outputId": "38f27edb-d205-427e-d6f5-98b3425fa30d"
      },
      "execution_count": null,
      "outputs": [
        {
          "output_type": "stream",
          "name": "stdout",
          "text": [
            "Brand: Samsung Price: 999.99 Count: 0\n"
          ]
        }
      ]
    },
    {
      "cell_type": "code",
      "source": [
        "class Smartphone(Electronics):\n",
        "\n",
        "  def __init__ (self, brand: str, price: float, os: str, camera_mp: str, max_capasity = 1500, cnt = 0, weight = 2):\n",
        "    super().__init__(brand, price, max_capasity, cnt)\n",
        "    self.os = os\n",
        "    self.camera_mp = camera_mp\n",
        "\n",
        "  def display_info (self):\n",
        "    super().display_info()\n",
        "    print(f\"OS:\", self.os, f\"Camera_mp:\", self.camera_mp)\n"
      ],
      "metadata": {
        "id": "Q05jz88hxyDv"
      },
      "execution_count": null,
      "outputs": []
    },
    {
      "cell_type": "code",
      "source": [
        "Item2 = Smartphone(\"Samsung\",900.00,\"Exynos\",\"40\")\n",
        "Item2.display_info()"
      ],
      "metadata": {
        "colab": {
          "base_uri": "https://localhost:8080/"
        },
        "id": "qg0ZOa0gzp7H",
        "outputId": "0e171929-d1e1-4c69-d37e-69de4b1b4471"
      },
      "execution_count": null,
      "outputs": [
        {
          "output_type": "stream",
          "name": "stdout",
          "text": [
            "Brand: Samsung Price: 900.0 Count: 0\n",
            "OS: Exynos Camera_mp: 40\n"
          ]
        }
      ]
    },
    {
      "cell_type": "code",
      "source": [
        "Item2.add(50)\n",
        "Item2.display_info()\n",
        "\n",
        "Item2.buy(20)\n",
        "Item2.display_info()\n",
        "\n",
        "Item2.buy(50)\n",
        "Item2.display_info()\n",
        "\n",
        "Item2.add(2000)\n",
        "Item2.display_info()\n",
        "\n",
        "Item2.max_capasity = 5000\n",
        "\n",
        "Item2.add(2000)\n",
        "Item2.display_info()"
      ],
      "metadata": {
        "colab": {
          "base_uri": "https://localhost:8080/"
        },
        "id": "47F_oD216DSk",
        "outputId": "a77c5255-562c-4dde-c2c3-adcfc285ff7d"
      },
      "execution_count": null,
      "outputs": [
        {
          "output_type": "stream",
          "name": "stdout",
          "text": [
            "Склад переполнен!\n",
            "Brand: Samsung Price: 900.0 Count: 0\n",
            "OS: Exynos Camera_mp: 40\n",
            "Ошибка! Нельзя продать больше, чем есть в наличии.\n",
            "Brand: Samsung Price: 900.0 Count: 0\n",
            "OS: Exynos Camera_mp: 40\n",
            "Ошибка! Нельзя продать больше, чем есть в наличии.\n",
            "Brand: Samsung Price: 900.0 Count: 0\n",
            "OS: Exynos Camera_mp: 40\n",
            "Склад переполнен!\n",
            "Brand: Samsung Price: 900.0 Count: 0\n",
            "OS: Exynos Camera_mp: 40\n",
            "Brand: Samsung Price: 900.0 Count: 2000\n",
            "OS: Exynos Camera_mp: 40\n"
          ]
        }
      ]
    },
    {
      "cell_type": "code",
      "source": [
        "class Laptop(Electronics):\n",
        "\n",
        "  def __init__ (self, brand: str, price: float, ram: str, cpu: str, max_capasity = 1000, cnt = 0, weight = 4):\n",
        "      super().__init__(brand, price, max_capasity, cnt)\n",
        "      self.ram = ram\n",
        "      self.cpu = cpu\n",
        "\n",
        "  def display_info (self):\n",
        "    super().display_info()\n",
        "    print(f\"RAM:\", self.ram, f\"CPU:\", self.cpu)\n"
      ],
      "metadata": {
        "id": "V-56T1vo0E70"
      },
      "execution_count": null,
      "outputs": []
    },
    {
      "cell_type": "code",
      "source": [
        "Item3 = Laptop(\"Lenovo\",1500.00,\"16 Gb\",\"40\")\n",
        "Item3.display_info()"
      ],
      "metadata": {
        "colab": {
          "base_uri": "https://localhost:8080/"
        },
        "id": "ruqzWphK01_w",
        "outputId": "1d9bd808-4cb5-4712-a69b-c24f410e2107"
      },
      "execution_count": null,
      "outputs": [
        {
          "output_type": "stream",
          "name": "stdout",
          "text": [
            "Brand: Lenovo Price: 1500.0 Count: 0\n",
            "RAM: 16 Gb CPU: 40\n"
          ]
        }
      ]
    },
    {
      "cell_type": "code",
      "source": [
        "Item3.add(25)\n",
        "Item3.display_info()\n",
        "\n",
        "Item3.buy(50)\n",
        "Item3.display_info()\n",
        "\n",
        "Item3.buy(20)\n",
        "Item3.display_info()\n",
        "\n",
        "Item3.add(1200)\n",
        "Item3.display_info()\n",
        "\n",
        "Item3.max_capasity = 5000\n",
        "\n",
        "Item3.add(2000)\n",
        "Item3.display_info()"
      ],
      "metadata": {
        "colab": {
          "base_uri": "https://localhost:8080/"
        },
        "id": "GC1n1cBt8z8z",
        "outputId": "d19c8a41-d6d0-4eb5-8306-7735c02003d9"
      },
      "execution_count": null,
      "outputs": [
        {
          "output_type": "stream",
          "name": "stdout",
          "text": [
            "Brand: Lenovo Price: 1500.0 Count: 3180\n",
            "RAM: 16 Gb CPU: 40\n",
            "Brand: Lenovo Price: 1500.0 Count: 3130\n",
            "RAM: 16 Gb CPU: 40\n",
            "Brand: Lenovo Price: 1500.0 Count: 3110\n",
            "RAM: 16 Gb CPU: 40\n",
            "Brand: Lenovo Price: 1500.0 Count: 4310\n",
            "RAM: 16 Gb CPU: 40\n",
            "Склад переполнен!\n",
            "Brand: Lenovo Price: 1500.0 Count: 4310\n",
            "RAM: 16 Gb CPU: 40\n"
          ]
        }
      ]
    },
    {
      "cell_type": "code",
      "source": [
        "class Smartwatch(Electronics):\n",
        "\n",
        "  def __init__ (self, brand: str, price: float, battery_life: int, sport_mode: bool, max_capasity = 5000, cnt = 0, weight = 1):\n",
        "      super().__init__(brand, price, max_capasity, cnt)\n",
        "      self.battery_life = battery_life\n",
        "      self.sport_mode = sport_mode\n",
        "\n",
        "  def display_info (self):\n",
        "    super().display_info()\n",
        "    print(f\"Battery life:\", self.battery_life, f\"Sport mode:\", self.sport_mode)\n"
      ],
      "metadata": {
        "id": "F3of430v1Dd9"
      },
      "execution_count": null,
      "outputs": []
    },
    {
      "cell_type": "code",
      "source": [
        "Item4 = Smartwatch(\"Swatch\",2000,240,True)\n",
        "Item4.display_info()"
      ],
      "metadata": {
        "colab": {
          "base_uri": "https://localhost:8080/"
        },
        "id": "p4zJsE1r1nhS",
        "outputId": "69f079b2-f2c1-4588-8e6a-ac2fa9bcd524"
      },
      "execution_count": null,
      "outputs": [
        {
          "output_type": "stream",
          "name": "stdout",
          "text": [
            "Brand: Swatch Price: 2000 Count: 0\n",
            "Battery life: 240 Sport mode: True\n"
          ]
        }
      ]
    },
    {
      "cell_type": "code",
      "source": [
        "Item4.add(25)\n",
        "Item4.display_info()\n",
        "\n",
        "Item4.buy(50)\n",
        "Item4.display_info()"
      ],
      "metadata": {
        "colab": {
          "base_uri": "https://localhost:8080/"
        },
        "id": "hLLQRTQl9fav",
        "outputId": "99a70fd7-262c-4b7b-b7b5-dcf118b7514b"
      },
      "execution_count": null,
      "outputs": [
        {
          "output_type": "stream",
          "name": "stdout",
          "text": [
            "Склад переполнен!\n",
            "Brand: Swatch Price: 2000 Count: 0\n",
            "Battery life: 240 Sport mode: True\n",
            "Ошибка! Нельзя продать больше, чем есть в наличии.\n",
            "Brand: Swatch Price: 2000 Count: 0\n",
            "Battery life: 240 Sport mode: True\n"
          ]
        }
      ]
    },
    {
      "cell_type": "code",
      "source": [
        "class TV(Electronics):\n",
        "\n",
        "  def __init__ (self, brand: str, price: float, diagonal: int, smart_tv: bool, max_capasity = 500, cnt = 0, weight = 20):\n",
        "    super().__init__(brand, price, max_capasity, cnt)\n",
        "    self.diagonal = diagonal\n",
        "    self.smart_tv = smart_tv\n",
        "\n",
        "  def display_info (self):\n",
        "    super().display_info()\n",
        "    print(f\"Diagonal:\", self.diagonal, f\"Smart TV:\", self.smart_tv)"
      ],
      "metadata": {
        "id": "tFY56PYn2QP8"
      },
      "execution_count": null,
      "outputs": []
    },
    {
      "cell_type": "code",
      "source": [
        "Item5 = TV(\"Sony\",1650,48,False)\n",
        "Item5.display_info()"
      ],
      "metadata": {
        "colab": {
          "base_uri": "https://localhost:8080/"
        },
        "id": "Xi3FYFDq2vfC",
        "outputId": "213c29b7-0af0-47b5-9fbe-526a0d6ae44d"
      },
      "execution_count": null,
      "outputs": [
        {
          "output_type": "stream",
          "name": "stdout",
          "text": [
            "Brand: Sony Price: 1650 Count: 0\n",
            "Diagonal: 48 Smart TV: False\n"
          ]
        }
      ]
    },
    {
      "cell_type": "code",
      "source": [
        "Item5.add(5)\n",
        "Item5.display_info()\n",
        "\n",
        "Item5.buy(6)\n",
        "Item5.display_info()"
      ],
      "metadata": {
        "colab": {
          "base_uri": "https://localhost:8080/"
        },
        "id": "TFklaOAb9lD5",
        "outputId": "04f316aa-dcd4-4f25-f7db-1c42ebc5d525"
      },
      "execution_count": null,
      "outputs": [
        {
          "output_type": "stream",
          "name": "stdout",
          "text": [
            "Склад переполнен!\n",
            "Brand: Sony Price: 1650 Count: 0\n",
            "Diagonal: 48 Smart TV: False\n",
            "Ошибка! Нельзя продать больше, чем есть в наличии.\n",
            "Brand: Sony Price: 1650 Count: 0\n",
            "Diagonal: 48 Smart TV: False\n"
          ]
        }
      ]
    },
    {
      "cell_type": "code",
      "source": [
        "class courier:\n",
        "  def __init__(self, speed: int,max_portability = 1, min_portability = 0):\n",
        "     self.speed = speed\n",
        "     self.max_portability = max_portability\n",
        "     self.min_portability = min_portability\n",
        "  def add(self, product: int):\n",
        "      if self.min_portability >= product:\n",
        "        self.min_portability -= product\n",
        "      else:\n",
        "        print(f\"Курьер пуст\")\n",
        "\n",
        "  def add(self, product: int):\n",
        "    if self.max_portability >= self.min_portability + product:\n",
        "      self.min_portability += product\n",
        "    else:\n",
        "      print(f\"Курьер забит\")\n",
        "\n",
        "  def display_info (self):\n",
        "    print(f\"Speed:\", self.speed, f\"min:\", self.min_portability)\n",
        "\n"
      ],
      "metadata": {
        "id": "8LEu2McNbcy6"
      },
      "execution_count": null,
      "outputs": []
    },
    {
      "cell_type": "code",
      "source": [
        "from google.colab import drive\n",
        "drive.mount('/content/drive')"
      ],
      "metadata": {
        "id": "nFlhUih1NdVz"
      },
      "execution_count": null,
      "outputs": []
    },
    {
      "cell_type": "code",
      "source": [],
      "metadata": {
        "id": "r65Z4VTd29lO"
      },
      "execution_count": null,
      "outputs": []
    },
    {
      "cell_type": "code",
      "source": [
        "class walker(courier):\n",
        "  def __init__(self,name, speed = 1,max_portability = 6, min_portability = 0):\n",
        "    self.name = name\n",
        "  def display_info (self):\n",
        "    print(f\"name:\", self.name)\n"
      ],
      "metadata": {
        "id": "31vQF-BKlOCC"
      },
      "execution_count": null,
      "outputs": []
    },
    {
      "cell_type": "code",
      "source": [
        "class bicyclist(courier):\n",
        "  def __init__(self,name, speed = 2, max_portability = 12, min_portability = 0):\n",
        "    self.name = name\n",
        "  def display_info (self):\n",
        "    print(f\"name:\", self.name)"
      ],
      "metadata": {
        "id": "KDjIV5BtogGw"
      },
      "execution_count": null,
      "outputs": []
    },
    {
      "cell_type": "code",
      "source": [
        "class driver(courier):\n",
        "  def __init__(self,name, speed = 3, max_portability = 100, min_portability = 0):\n",
        "    super().__init__(speed, max_portability, min_portability)\n",
        "    self.name = name\n",
        "  def display_info (self):\n",
        "    print(f\"name:\", self.name)"
      ],
      "metadata": {
        "id": "qQ9VXSixohIA"
      },
      "execution_count": null,
      "outputs": []
    },
    {
      "cell_type": "code",
      "source": [
        "courier1 = driver(\"Вадим\")\n",
        "courier1.display_info()"
      ],
      "metadata": {
        "id": "4LZ5AkS7rJCU",
        "outputId": "3f51aa9d-4c4c-474d-8d17-8b727ad150b0",
        "colab": {
          "base_uri": "https://localhost:8080/"
        }
      },
      "execution_count": null,
      "outputs": [
        {
          "output_type": "stream",
          "name": "stdout",
          "text": [
            "name: Вадим\n"
          ]
        }
      ]
    },
    {
      "cell_type": "code",
      "source": [
        "courier1.add(10)"
      ],
      "metadata": {
        "id": "HiKeHK9SvYS-"
      },
      "execution_count": null,
      "outputs": []
    }
  ]
}