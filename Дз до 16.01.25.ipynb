{
 "cells": [
  {
   "cell_type": "code",
   "execution_count": 5,
   "id": "38a36ca6-719a-4a3b-b10a-d272d7df7b86",
   "metadata": {},
   "outputs": [
    {
     "name": "stdout",
     "output_type": "stream",
     "text": [
      "[1, 2, 3, 4, 5, 6, 7, 8]\n"
     ]
    }
   ],
   "source": [
    "qi = [1,2,3,4,5,6,7,8]\n",
    "print(qi)"
   ]
  },
  {
   "cell_type": "code",
   "execution_count": 7,
   "id": "e653e41e-6d54-4c93-9626-7e4ffc1bdd3e",
   "metadata": {},
   "outputs": [
    {
     "name": "stdout",
     "output_type": "stream",
     "text": [
      "[8, 7, 6, 5, 4, 3, 2, 1]\n"
     ]
    }
   ],
   "source": [
    "qi.reverse()\n",
    "print(qi)"
   ]
  },
  {
   "cell_type": "code",
   "execution_count": 21,
   "id": "2319483b-5e87-468e-879f-0f85ff01d5eb",
   "metadata": {},
   "outputs": [
    {
     "name": "stdout",
     "output_type": "stream",
     "text": [
      "[8, 2, 3, 4, 5, 6, 7, 1]\n"
     ]
    }
   ],
   "source": [
    "si = [1,2,3,4,5,6,7,8]\n",
    "a,b = si.index(8), si.index(1)\n",
    "si[b], si[a] = si[a], si[b]\n",
    "print(si)"
   ]
  },
  {
   "cell_type": "code",
   "execution_count": 47,
   "id": "c17b8c0e-dc1e-4e93-a262-2c2e71ded18c",
   "metadata": {},
   "outputs": [
    {
     "name": "stdout",
     "output_type": "stream",
     "text": [
      "Введите коэффициенты для уравнения\n",
      "ax^2 + bx + c = 0:\n"
     ]
    },
    {
     "name": "stdin",
     "output_type": "stream",
     "text": [
      "a =  1\n",
      "b =  -12\n",
      "c =  20\n"
     ]
    },
    {
     "name": "stdout",
     "output_type": "stream",
     "text": [
      "Дискриминант D = 64.00\n",
      "x1 = 10.00 \n",
      "x2 = 2.00\n"
     ]
    }
   ],
   "source": [
    "import math\n",
    "\n",
    "print(\"Введите коэффициенты для уравнения\")\n",
    "print(\"ax^2 + bx + c = 0:\")\n",
    "a = float(input(\"a = \"))\n",
    "b = float(input(\"b = \"))\n",
    "c = float(input(\"c = \"))\n",
    "\n",
    "discr = b ** 2 - 4 * a * c\n",
    "print(\"Дискриминант D = %.2f\" % discr)\n",
    "\n",
    "if discr > 0:\n",
    "    x1 = (-b + math.sqrt(discr)) / (2 * a)\n",
    "    x2 = (-b - math.sqrt(discr)) / (2 * a)\n",
    "    print(\"x1 = %.2f \\nx2 = %.2f\" % (x1, x2))\n",
    "elif discr == 0:\n",
    "    x = -b / (2 * a)\n",
    "    print(\"x = %.2f\" % x)\n",
    "else:\n",
    "    print(\"Корней нет\")"
   ]
  },
  {
   "cell_type": "code",
   "execution_count": 53,
   "id": "c97edff0-d353-48c9-bc94-b8bd63c9f8dd",
   "metadata": {},
   "outputs": [
    {
     "name": "stdout",
     "output_type": "stream",
     "text": [
      " максимальное число 8\n"
     ]
    }
   ],
   "source": [
    "ni = [1,2,3,4,5,6,7,8]\n",
    "largest_ni = max(ni);\n",
    "print(\" максимальное число\", largest_ni)"
   ]
  },
  {
   "cell_type": "code",
   "execution_count": 55,
   "id": "aafdb96c-2ceb-45a3-934d-6beaa439e715",
   "metadata": {},
   "outputs": [
    {
     "name": "stdout",
     "output_type": "stream",
     "text": [
      "8\n"
     ]
    }
   ],
   "source": [
    "print(len(ni))"
   ]
  },
  {
   "cell_type": "code",
   "execution_count": 57,
   "id": "a39d5354-8d23-4a2b-aa28-788c05416494",
   "metadata": {},
   "outputs": [
    {
     "data": {
      "text/plain": [
       "1.0"
      ]
     },
     "execution_count": 57,
     "metadata": {},
     "output_type": "execute_result"
    }
   ],
   "source": [
    "largest_ni / len(ni)"
   ]
  },
  {
   "cell_type": "code",
   "execution_count": null,
   "id": "c9a31e65-f061-49de-bd16-2c6718ca7bd0",
   "metadata": {},
   "outputs": [],
   "source": []
  }
 ],
 "metadata": {
  "kernelspec": {
   "display_name": "Python [conda env:base] *",
   "language": "python",
   "name": "conda-base-py"
  },
  "language_info": {
   "codemirror_mode": {
    "name": "ipython",
    "version": 3
   },
   "file_extension": ".py",
   "mimetype": "text/x-python",
   "name": "python",
   "nbconvert_exporter": "python",
   "pygments_lexer": "ipython3",
   "version": "3.12.7"
  }
 },
 "nbformat": 4,
 "nbformat_minor": 5
}
